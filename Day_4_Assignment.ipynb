{
  "nbformat": 4,
  "nbformat_minor": 0,
  "metadata": {
    "colab": {
      "name": "Day 4 Assignment.ipynb",
      "provenance": [],
      "collapsed_sections": [],
      "authorship_tag": "ABX9TyMbHxJapcrrLR/Jnm3hZ20f",
      "include_colab_link": true
    },
    "kernelspec": {
      "name": "python3",
      "display_name": "Python 3"
    }
  },
  "cells": [
    {
      "cell_type": "markdown",
      "metadata": {
        "id": "view-in-github",
        "colab_type": "text"
      },
      "source": [
        "<a href=\"https://colab.research.google.com/github/gvrajendren/LU-Python-Ess/blob/master/Day_4_Assignment.ipynb\" target=\"_parent\"><img src=\"https://colab.research.google.com/assets/colab-badge.svg\" alt=\"Open In Colab\"/></a>"
      ]
    },
    {
      "cell_type": "code",
      "metadata": {
        "id": "wVJk81-1Uzyq",
        "colab_type": "code",
        "colab": {
          "base_uri": "https://localhost:8080/",
          "height": 71
        },
        "outputId": "ae1576ec-e9b3-4b34-a4bf-bbf0ec1a5a00"
      },
      "source": [
        " s = 'welcome'\n",
        "if s.islower() == True:\n",
        "  print('Does not contain uppercase letter.')\n",
        "else:\n",
        "  print('Contains uppercase letter.')\n",
        "  \n",
        "s = 'Welcome'\n",
        "if s.islower() == True:\n",
        "  print('Does not contain uppercase letter.')\n",
        "else:\n",
        "  print('Contains uppercase letter.')"
      ],
      "execution_count": 2,
      "outputs": [
        {
          "output_type": "stream",
          "text": [
            "Does not contain uppercase letter.\n",
            "Contains uppercase letter.\n"
          ],
          "name": "stdout"
        }
      ]
    },
    {
      "cell_type": "code",
      "metadata": {
        "id": "K1hgN0a6VWSi",
        "colab_type": "code",
        "colab": {
          "base_uri": "https://localhost:8080/",
          "height": 71
        },
        "outputId": "bf7195a1-6eab-42d4-d5f1-316914ee9175"
      },
      "source": [
        " s = 'harry potter'\n",
        "if s.isupper() == True:\n",
        "  print('contains uppercase letter.')\n",
        "else:\n",
        "  print('Does not Contain uppercase letter.')\n",
        "  \n",
        "s = 'THIS IS GOD'\n",
        "if s.isupper() == True:\n",
        "  print(' contain uppercase letter.')\n",
        "else:\n",
        "  print('does not Contains uppercase letter.')"
      ],
      "execution_count": 4,
      "outputs": [
        {
          "output_type": "stream",
          "text": [
            "Does not Contain uppercase letter.\n",
            " contain uppercase letter.\n"
          ],
          "name": "stdout"
        }
      ]
    },
    {
      "cell_type": "code",
      "metadata": {
        "id": "tunSeX2yW1BC",
        "colab_type": "code",
        "colab": {
          "base_uri": "https://localhost:8080/",
          "height": 69
        },
        "outputId": "d1fd95bf-7154-4c7b-972d-e9f8391b1ee2"
      },
      "source": [
        " quote = 'Let it be, let it be, let it be'\n",
        " \n",
        "# first occurance of 'let it'(case sensitive)\n",
        "result = quote.find('let it')\n",
        "print(\"Substring 'let it':\", result)\n",
        " \n",
        "# find returns -1 if substring not found\n",
        "result = quote.find('small')\n",
        "print(\"Substring 'small ':\", result)\n",
        " \n",
        "# How to use find()\n",
        "if (quote.find('be,') != -1):\n",
        "    print(\"Contains substring 'be,'\")\n",
        "else:\n",
        "    print(\"Doesn't contain substring\")"
      ],
      "execution_count": 5,
      "outputs": [
        {
          "output_type": "stream",
          "text": [
            "Substring 'let it': 11\n",
            "Substring 'small ': -1\n",
            "Contains substring 'be,'\n"
          ],
          "name": "stdout"
        }
      ]
    }
  ]
}