{
  "nbformat": 4,
  "nbformat_minor": 0,
  "metadata": {
    "colab": {
      "name": "Day 3 Assignment.ipynb",
      "provenance": [],
      "collapsed_sections": [],
      "authorship_tag": "ABX9TyNrqsDMsx13GhlYKwPj6rE+",
      "include_colab_link": true
    },
    "kernelspec": {
      "name": "python3",
      "display_name": "Python 3"
    }
  },
  "cells": [
    {
      "cell_type": "markdown",
      "metadata": {
        "id": "view-in-github",
        "colab_type": "text"
      },
      "source": [
        "<a href=\"https://colab.research.google.com/github/gvrajendren/LU-Python-Ess/blob/master/Day_3_Assignment.ipynb\" target=\"_parent\"><img src=\"https://colab.research.google.com/assets/colab-badge.svg\" alt=\"Open In Colab\"/></a>"
      ]
    },
    {
      "cell_type": "code",
      "metadata": {
        "id": "XQPM2JwTx1vm",
        "colab_type": "code",
        "colab": {
          "base_uri": "https://localhost:8080/",
          "height": 51
        },
        "outputId": "4feae910-7b26-4ab1-fd50-d997c75efcb1"
      },
      "source": [
        "n = int(input (\"enter no\"))\n",
        "if n < 0:\n",
        "  print (\"enter positive no\")\n",
        "else:\n",
        "  sum = 0\n",
        "while(n > 0):\n",
        "  sum += n\n",
        "  n -= 1\n",
        "print (\"the sum is\",sum)"
      ],
      "execution_count": null,
      "outputs": [
        {
          "output_type": "stream",
          "text": [
            "enter no100\n",
            "the sum is 5050\n"
          ],
          "name": "stdout"
        }
      ]
    },
    {
      "cell_type": "code",
      "metadata": {
        "id": "cCkxgRLkyNUY",
        "colab_type": "code",
        "colab": {
          "base_uri": "https://localhost:8080/",
          "height": 51
        },
        "outputId": "4e2c26d5-eaf3-4119-a133-caac77c8c61b"
      },
      "source": [
        "num = int(input(\"Enter a number: \"))  \n",
        "if num > 1:   \n",
        "  for i in range(2,num):  \n",
        "       if (num % i) == 0:   \n",
        "          print(num,\"is not a prime number\") \n",
        "          print(i,\"times\",num//i,\"is\",num)  \n",
        "          break  \n",
        "  else:   \n",
        "      print(num,\"is a prime number\")     \n",
        "else:   \n",
        "  print(num,\"is not a prime number\")"
      ],
      "execution_count": null,
      "outputs": [
        {
          "output_type": "stream",
          "text": [
            "Enter a number: 3\n",
            "3 is a prime number\n"
          ],
          "name": "stdout"
        }
      ]
    }
  ]
}